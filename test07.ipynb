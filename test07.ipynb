{
 "cells": [
  {
   "cell_type": "code",
   "execution_count": null,
   "metadata": {
    "collapsed": true
   },
   "outputs": [],
   "source": [
    "from dask.distributed import LocalCluster, Client\n",
    "from dask import delayed, compute\n",
    "from collections import OrderedDict\n",
    "\n",
    "import dask.dataframe as dd\n",
    "import fastparquet as fq\n",
    "\n",
    "import multiprocessing as mp\n",
    "import pandas as pd\n",
    "import numpy as np\n",
    "import time"
   ]
  },
  {
   "cell_type": "code",
   "execution_count": null,
   "metadata": {},
   "outputs": [],
   "source": [
    "! ls -l data\n",
    "to_read = 'data/' +  input('copy and paste the filename: ')"
   ]
  },
  {
   "cell_type": "code",
   "execution_count": null,
   "metadata": {},
   "outputs": [],
   "source": [
    "data = fq.ParquetFile(to_read).to_pandas()"
   ]
  },
  {
   "cell_type": "code",
   "execution_count": null,
   "metadata": {},
   "outputs": [],
   "source": [
    "data.columns"
   ]
  },
  {
   "cell_type": "code",
   "execution_count": null,
   "metadata": {},
   "outputs": [],
   "source": [
    "data.head()"
   ]
  },
  {
   "cell_type": "code",
   "execution_count": null,
   "metadata": {
    "collapsed": true
   },
   "outputs": [],
   "source": [
    "programs = list(data.program.unique())\n",
    "programs.sort()\n",
    "programs = pd.Series(programs)"
   ]
  },
  {
   "cell_type": "code",
   "execution_count": null,
   "metadata": {
    "collapsed": true
   },
   "outputs": [],
   "source": [
    "q = input('search programs:')\n",
    "mask = programs.str.startswith(q)\n",
    "programs.loc[mask]"
   ]
  },
  {
   "cell_type": "code",
   "execution_count": null,
   "metadata": {
    "collapsed": true
   },
   "outputs": [],
   "source": [
    "to_match = OrderedDict(year='2017', month='02', program='GOOD MORNING AMERICA', demo='WM2554', time='07:00-09:00', mon=1, tue=1, wed=1, thur=1, fri=1)\n",
    "#to_match = OrderedDict(program='MORNING NEWS', time='06:00-07:00', station_affiliation='CBS')"
   ]
  },
  {
   "cell_type": "markdown",
   "metadata": {},
   "source": [
    "The following section compares query runtime with and without reduction. Building a chain of loc slows things down severely. The best time was without reduction."
   ]
  },
  {
   "cell_type": "code",
   "execution_count": null,
   "metadata": {
    "collapsed": true
   },
   "outputs": [],
   "source": [
    "%%timeit\n",
    "frame, mask = data, np.ones(len(data)).astype(bool)\n",
    "for k, v in to_match.items():\n",
    "    t1 = time.time()\n",
    "    #mask &= frame.loc[mask, k] == v\n",
    "    mask &= data[k] == v\n",
    "    frame = frame.loc[mask]\n",
    "    t2 = time.time()\n",
    "    #print(k, t2-t1)\n",
    "y = frame.imp.sum()\n",
    "print(y)"
   ]
  },
  {
   "cell_type": "code",
   "execution_count": null,
   "metadata": {
    "collapsed": true
   },
   "outputs": [],
   "source": [
    "%%timeit\n",
    "mask = np.ones(len(data)).astype(bool)\n",
    "for k, v in to_match.items():\n",
    "    t1 = time.time()\n",
    "    #mask &= data.loc[mask, k] == v\n",
    "    mask &= data[k] == v\n",
    "    t2 = time.time()\n",
    "    #print(k, t2-t1)\n",
    "frame = data.loc[mask]\n",
    "y = frame.imp.sum()\n",
    "print(y)"
   ]
  },
  {
   "cell_type": "markdown",
   "metadata": {},
   "source": [
    "time to daskify!"
   ]
  },
  {
   "cell_type": "code",
   "execution_count": null,
   "metadata": {
    "collapsed": true
   },
   "outputs": [],
   "source": [
    "cluster = LocalCluster()"
   ]
  },
  {
   "cell_type": "code",
   "execution_count": null,
   "metadata": {
    "collapsed": true
   },
   "outputs": [],
   "source": [
    "client = Client(cluster)"
   ]
  },
  {
   "cell_type": "code",
   "execution_count": null,
   "metadata": {
    "collapsed": true
   },
   "outputs": [],
   "source": [
    "df = dd.from_pandas(data, npartitions=mp.cpu_count())"
   ]
  },
  {
   "cell_type": "code",
   "execution_count": null,
   "metadata": {},
   "outputs": [],
   "source": [
    "%%time\n",
    "ddata = client.persist(df)"
   ]
  },
  {
   "cell_type": "code",
   "execution_count": null,
   "metadata": {
    "collapsed": true
   },
   "outputs": [],
   "source": [
    "#masks = [ddata.loc[:, k] == v for k, v in to_match.items()]\n",
    "masks = [ddata[k] == v for k, v in to_match.items()]"
   ]
  },
  {
   "cell_type": "code",
   "execution_count": null,
   "metadata": {
    "collapsed": true
   },
   "outputs": [],
   "source": [
    "mask = masks[0]\n",
    "for m in masks[1:]:\n",
    "    mask &= m"
   ]
  },
  {
   "cell_type": "code",
   "execution_count": null,
   "metadata": {
    "collapsed": true
   },
   "outputs": [],
   "source": [
    "y = ddata.loc[mask, 'imp'].sum()"
   ]
  },
  {
   "cell_type": "code",
   "execution_count": null,
   "metadata": {},
   "outputs": [],
   "source": [
    "%%timeit\n",
    "yy = y.compute()"
   ]
  },
  {
   "cell_type": "code",
   "execution_count": null,
   "metadata": {},
   "outputs": [],
   "source": [
    "yy"
   ]
  },
  {
   "cell_type": "markdown",
   "metadata": {},
   "source": [
    "manual sanity check and loc investigtaion"
   ]
  },
  {
   "cell_type": "code",
   "execution_count": null,
   "metadata": {
    "collapsed": true
   },
   "outputs": [],
   "source": [
    "%%timeit\n",
    "m = data.loc[:, 'year'] == '2017'\n",
    "m &= data.loc[m, 'month'] == '02'\n",
    "m &= data.loc[m, 'demo'] == to_match['demo']\n",
    "m &= data.loc[m, 'program'] == to_match['program']\n",
    "m &= data.loc[m, 'time'] == '07:00-09:00'\n",
    "data[m].imp.sum()"
   ]
  },
  {
   "cell_type": "code",
   "execution_count": null,
   "metadata": {
    "collapsed": true
   },
   "outputs": [],
   "source": [
    "%%timeit\n",
    "m = data.year == '2017'\n",
    "m &= data.month == '02'\n",
    "m &= data.demo == to_match['demo']\n",
    "m &= data.program == to_match['program']\n",
    "m &= data.time == '07:00-09:00'\n",
    "data[m].imp.sum()"
   ]
  },
  {
   "cell_type": "markdown",
   "metadata": {},
   "source": [
    "let's investigate how to optimize queries manually"
   ]
  },
  {
   "cell_type": "code",
   "execution_count": null,
   "metadata": {
    "collapsed": true
   },
   "outputs": [],
   "source": [
    "clabels = [l for l, t in data.dtypes.items() if str(t) == 'category']\n",
    "d = {label: len(data[label].cat.categories) for label in clabels}\n",
    "s = pd.Series.from_array(d)"
   ]
  },
  {
   "cell_type": "code",
   "execution_count": null,
   "metadata": {
    "collapsed": true
   },
   "outputs": [],
   "source": [
    "s.sort_values(ascending=False, inplace=True)"
   ]
  },
  {
   "cell_type": "code",
   "execution_count": null,
   "metadata": {
    "collapsed": true
   },
   "outputs": [],
   "source": [
    "s"
   ]
  },
  {
   "cell_type": "code",
   "execution_count": null,
   "metadata": {
    "collapsed": true
   },
   "outputs": [],
   "source": [
    "%%timeit\n",
    "m = True\n",
    "m &= data.program == to_match['program']\n",
    "m &= data.time == '07:00-09:00'\n",
    "m &= data.demo == to_match['demo']\n",
    "m &= data.month == '02'\n",
    "m &= data.year == '2017'\n",
    "data[m].imp.sum()"
   ]
  },
  {
   "cell_type": "code",
   "execution_count": null,
   "metadata": {
    "collapsed": true
   },
   "outputs": [],
   "source": [
    "%%timeit\n",
    "f = data\n",
    "m = f.program == to_match['program']\n",
    "f = f[m]\n",
    "m = f.time == '07:00-09:00'\n",
    "f = f[m]\n",
    "m = f.demo == to_match['demo']\n",
    "f = f[m]\n",
    "m = f.month == '02'\n",
    "f = f[m]\n",
    "m = f.year == '2017'\n",
    "f = f[m]\n",
    "f.imp.sum()"
   ]
  },
  {
   "cell_type": "markdown",
   "metadata": {},
   "source": [
    "let's use built in pandas query engine"
   ]
  },
  {
   "cell_type": "code",
   "execution_count": null,
   "metadata": {
    "collapsed": true
   },
   "outputs": [],
   "source": [
    "qstr = ' and '.join([f'{k}==\"{v}\"' for k, v in to_match.items()])"
   ]
  },
  {
   "cell_type": "code",
   "execution_count": null,
   "metadata": {},
   "outputs": [],
   "source": [
    "qstr"
   ]
  },
  {
   "cell_type": "code",
   "execution_count": null,
   "metadata": {},
   "outputs": [],
   "source": [
    "%%time\n",
    "r = data.query(qstr)\n",
    "r = r.imp.sum()\n",
    "print(r)"
   ]
  },
  {
   "cell_type": "code",
   "execution_count": null,
   "metadata": {},
   "outputs": [],
   "source": [
    "%%time\n",
    "y = ddata.query(qstr).imp.sum()\n",
    "yy = y.compute()"
   ]
  },
  {
   "cell_type": "code",
   "execution_count": null,
   "metadata": {},
   "outputs": [],
   "source": [
    "y.visualize()"
   ]
  },
  {
   "cell_type": "code",
   "execution_count": null,
   "metadata": {},
   "outputs": [],
   "source": [
    "yy"
   ]
  },
  {
   "cell_type": "code",
   "execution_count": null,
   "metadata": {
    "collapsed": true
   },
   "outputs": [],
   "source": []
  }
 ],
 "metadata": {
  "kernelspec": {
   "display_name": "Python 3",
   "language": "python",
   "name": "python3"
  },
  "language_info": {
   "codemirror_mode": {
    "name": "ipython",
    "version": 3
   },
   "file_extension": ".py",
   "mimetype": "text/x-python",
   "name": "python",
   "nbconvert_exporter": "python",
   "pygments_lexer": "ipython3",
   "version": "3.6.1"
  }
 },
 "nbformat": 4,
 "nbformat_minor": 2
}
