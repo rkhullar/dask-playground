{
 "cells": [
  {
   "cell_type": "code",
   "execution_count": null,
   "metadata": {
    "collapsed": true
   },
   "outputs": [],
   "source": [
    "from dask.distributed import LocalCluster, Client\n",
    "from dask import delayed, compute\n",
    "from collections import OrderedDict\n",
    "\n",
    "import dask.dataframe as dd\n",
    "import fastparquet as fq\n",
    "\n",
    "import multiprocessing as mp\n",
    "import pandas as pd\n",
    "import numpy as np\n",
    "import time"
   ]
  },
  {
   "cell_type": "code",
   "execution_count": null,
   "metadata": {},
   "outputs": [],
   "source": [
    "to_read = input()"
   ]
  },
  {
   "cell_type": "code",
   "execution_count": null,
   "metadata": {},
   "outputs": [],
   "source": [
    "data = fq.ParquetFile(to_read).to_pandas()"
   ]
  },
  {
   "cell_type": "code",
   "execution_count": null,
   "metadata": {
    "collapsed": true
   },
   "outputs": [],
   "source": [
    "data.columns"
   ]
  },
  {
   "cell_type": "code",
   "execution_count": null,
   "metadata": {
    "collapsed": true
   },
   "outputs": [],
   "source": [
    "programs = list(data.program.unique())\n",
    "programs.sort()\n",
    "programs = pd.Series(programs)"
   ]
  },
  {
   "cell_type": "code",
   "execution_count": null,
   "metadata": {
    "collapsed": true
   },
   "outputs": [],
   "source": [
    "mask = programs.str.startswith('GOOD MORNING')\n",
    "programs.loc[mask]"
   ]
  },
  {
   "cell_type": "code",
   "execution_count": null,
   "metadata": {
    "collapsed": true
   },
   "outputs": [],
   "source": [
    "to_match = OrderedDict(year='2017', month='02', program='GOOD MORNING AMERICA', demo='WM2554', time='07:00-09:00', mon=1, tue=1, wed=1, thur=1, fri=1)"
   ]
  },
  {
   "cell_type": "markdown",
   "metadata": {},
   "source": [
    "The following section compares query runtime with and without reduction. Building a chain of loc slows things down severely. The best time was without reduction."
   ]
  },
  {
   "cell_type": "code",
   "execution_count": null,
   "metadata": {
    "collapsed": true
   },
   "outputs": [],
   "source": [
    "%%time\n",
    "frame, mask = data, np.ones(len(data)).astype(bool)\n",
    "for k, v in to_match.items():\n",
    "    t1 = time.time()\n",
    "    #mask &= frame.loc[mask, k] == v\n",
    "    mask &= data[k] == v\n",
    "    frame = frame.loc[mask]\n",
    "    t2 = time.time()\n",
    "    #print(k, t2-t1)\n",
    "frame.imp.sum()"
   ]
  },
  {
   "cell_type": "code",
   "execution_count": null,
   "metadata": {
    "collapsed": true
   },
   "outputs": [],
   "source": [
    "%%time\n",
    "mask = np.ones(len(data)).astype(bool)\n",
    "for k, v in to_match.items():\n",
    "    t1 = time.time()\n",
    "    #mask &= data.loc[mask, k] == v\n",
    "    mask &= data[k] == v\n",
    "    t2 = time.time()\n",
    "    #print(k, t2-t1)\n",
    "frame = data.loc[mask]\n",
    "frame.imp.sum()"
   ]
  },
  {
   "cell_type": "markdown",
   "metadata": {},
   "source": [
    "time to daskify!"
   ]
  },
  {
   "cell_type": "code",
   "execution_count": null,
   "metadata": {
    "collapsed": true
   },
   "outputs": [],
   "source": [
    "cluster = LocalCluster()"
   ]
  },
  {
   "cell_type": "code",
   "execution_count": null,
   "metadata": {
    "collapsed": true
   },
   "outputs": [],
   "source": [
    "client = Client(cluster)"
   ]
  },
  {
   "cell_type": "code",
   "execution_count": null,
   "metadata": {
    "collapsed": true
   },
   "outputs": [],
   "source": [
    "df = dd.from_pandas(data, npartitions=mp.cpu_count())"
   ]
  },
  {
   "cell_type": "code",
   "execution_count": null,
   "metadata": {
    "collapsed": true
   },
   "outputs": [],
   "source": [
    "%%time\n",
    "ddata = client.persist(df)"
   ]
  },
  {
   "cell_type": "code",
   "execution_count": null,
   "metadata": {
    "collapsed": true
   },
   "outputs": [],
   "source": [
    "ddata.visualize()"
   ]
  },
  {
   "cell_type": "code",
   "execution_count": null,
   "metadata": {
    "collapsed": true
   },
   "outputs": [],
   "source": [
    "#masks = [ddata.loc[:, k] == v for k, v in to_match.items()]\n",
    "masks = [ddata[k] == v for k, v in to_match.items()]"
   ]
  },
  {
   "cell_type": "code",
   "execution_count": null,
   "metadata": {
    "collapsed": true
   },
   "outputs": [],
   "source": [
    "mask = masks[0]\n",
    "for m in masks[1:]:\n",
    "    mask &= m"
   ]
  },
  {
   "cell_type": "code",
   "execution_count": null,
   "metadata": {
    "collapsed": true
   },
   "outputs": [],
   "source": [
    "y = ddata.loc[mask, 'imp'].sum()"
   ]
  },
  {
   "cell_type": "code",
   "execution_count": null,
   "metadata": {
    "collapsed": true
   },
   "outputs": [],
   "source": [
    "%%timeit\n",
    "yy = y.compute()"
   ]
  },
  {
   "cell_type": "code",
   "execution_count": null,
   "metadata": {
    "collapsed": true
   },
   "outputs": [],
   "source": [
    "y.compute()"
   ]
  },
  {
   "cell_type": "markdown",
   "metadata": {},
   "source": [
    "manual sanity check and loc investigtaion"
   ]
  },
  {
   "cell_type": "code",
   "execution_count": null,
   "metadata": {
    "collapsed": true
   },
   "outputs": [],
   "source": [
    "%%timeit\n",
    "m = data.loc[:, 'year'] == '2017'\n",
    "m &= data.loc[m, 'month'] == '02'\n",
    "m &= data.loc[m, 'demo'] == to_match['demo']\n",
    "m &= data.loc[m, 'program'] == to_match['program']\n",
    "m &= data.loc[m, 'time'] == '07:00-09:00'\n",
    "data[m].imp.sum()"
   ]
  },
  {
   "cell_type": "code",
   "execution_count": null,
   "metadata": {
    "collapsed": true
   },
   "outputs": [],
   "source": [
    "%%timeit\n",
    "m = data.year == '2017'\n",
    "m &= data.month == '02'\n",
    "m &= data.demo == to_match['demo']\n",
    "m &= data.program == to_match['program']\n",
    "m &= data.time == '07:00-09:00'\n",
    "data[m].imp.sum()"
   ]
  },
  {
   "cell_type": "code",
   "execution_count": null,
   "metadata": {
    "collapsed": true
   },
   "outputs": [],
   "source": []
  }
 ],
 "metadata": {
  "kernelspec": {
   "display_name": "Python 3",
   "language": "python",
   "name": "python3"
  },
  "language_info": {
   "codemirror_mode": {
    "name": "ipython",
    "version": 3
   },
   "file_extension": ".py",
   "mimetype": "text/x-python",
   "name": "python",
   "nbconvert_exporter": "python",
   "pygments_lexer": "ipython3",
   "version": "3.6.1"
  }
 },
 "nbformat": 4,
 "nbformat_minor": 2
}
