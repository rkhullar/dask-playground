{
 "cells": [
  {
   "cell_type": "code",
   "execution_count": null,
   "metadata": {
    "collapsed": true
   },
   "outputs": [],
   "source": [
    "import pandas as pd\n",
    "import numpy as np\n",
    "import string"
   ]
  },
  {
   "cell_type": "code",
   "execution_count": null,
   "metadata": {
    "collapsed": true
   },
   "outputs": [],
   "source": [
    "def make_ids(size: float=1e2, length: int=8):\n",
    "    size = int(size)\n",
    "    space = string.ascii_lowercase+string.digits\n",
    "    out = set()\n",
    "    for _ in range(2*size):\n",
    "        arr = np.random.choice(list(space), size=length)\n",
    "        val = ''.join(arr)\n",
    "        out.add(val)\n",
    "    return list(out)[:size]"
   ]
  },
  {
   "cell_type": "code",
   "execution_count": null,
   "metadata": {
    "collapsed": true
   },
   "outputs": [],
   "source": [
    "def make_data(size: float=1e2) -> pd.DataFrame:\n",
    "    size = int(size)\n",
    "    years = np.arange(2012, 2017).astype(str)\n",
    "    df = pd.DataFrame(dict(\n",
    "        id=np.random.choice(make_ids(8), size=size),\n",
    "        year=np.random.choice(years, size=size),\n",
    "        month=np.random.randint(1, 13, size=size),\n",
    "        imp=np.random.randint(100, size=size)\n",
    "    ), columns=('id', 'year', 'month', 'quarter', 'imp'))\n",
    "    df.quarter = df.month.apply(lambda m: int((m-1)/3+1))\n",
    "    for label in ['id', 'year', 'month', 'quarter']:\n",
    "        df[label] = df[label].astype('category')\n",
    "    return df"
   ]
  },
  {
   "cell_type": "code",
   "execution_count": null,
   "metadata": {},
   "outputs": [],
   "source": [
    "data = make_data(size=1e4)\n",
    "data.head()"
   ]
  },
  {
   "cell_type": "code",
   "execution_count": null,
   "metadata": {
    "collapsed": true
   },
   "outputs": [],
   "source": [
    "groupby_cols = ['id', 'year', 'quarter']"
   ]
  },
  {
   "cell_type": "code",
   "execution_count": null,
   "metadata": {},
   "outputs": [],
   "source": [
    "%%time\n",
    "lookup = data.groupby(groupby_cols).mean()"
   ]
  },
  {
   "cell_type": "code",
   "execution_count": null,
   "metadata": {},
   "outputs": [],
   "source": [
    "lookup.head()"
   ]
  },
  {
   "cell_type": "code",
   "execution_count": null,
   "metadata": {},
   "outputs": [],
   "source": [
    "qid = lookup.index.get_level_values('id')[0]\n",
    "lookup.loc[qid, '2012']"
   ]
  },
  {
   "cell_type": "code",
   "execution_count": null,
   "metadata": {},
   "outputs": [],
   "source": [
    "%%time\n",
    "lookup_dict = {}\n",
    "for qid in data.id.cat.categories:\n",
    "    frame = lookup.loc[qid].imp\n",
    "    lookup_dict[qid] = pd.DataFrame(dict(\n",
    "        x=frame,\n",
    "        s1=frame.shift(-1),\n",
    "        s2=frame.shift(-2)\n",
    "    ), columns=('x', 's1', 's2'))"
   ]
  },
  {
   "cell_type": "code",
   "execution_count": null,
   "metadata": {},
   "outputs": [],
   "source": [
    "for k, tab in lookup_dict.items():\n",
    "    print(k)\n",
    "    print(tab.dropna())\n",
    "    break"
   ]
  },
  {
   "cell_type": "code",
   "execution_count": null,
   "metadata": {},
   "outputs": [],
   "source": [
    "%%time\n",
    "out = pd.DataFrame()\n",
    "for name, group in data.groupby(groupby_cols):\n",
    "    qid, year, quarter = name\n",
    "    part = lookup_dict[qid].loc[year, quarter]\n",
    "    group = group.copy()\n",
    "    group['x'] = part.x\n",
    "    group['s1'] = part.s1\n",
    "    group['s2'] = part.s2\n",
    "    group = group.dropna()\n",
    "    out = out.append(group)"
   ]
  },
  {
   "cell_type": "code",
   "execution_count": null,
   "metadata": {},
   "outputs": [],
   "source": [
    "out.head()"
   ]
  },
  {
   "cell_type": "code",
   "execution_count": null,
   "metadata": {},
   "outputs": [],
   "source": [
    "%%time\n",
    "rlookup = {}\n",
    "for name, group in data.loc[:, groupby_cols].groupby(groupby_cols):\n",
    "    qid, year, quarter = name\n",
    "    part = lookup_dict[qid].loc[year, quarter]\n",
    "    for i in group.index:\n",
    "        rlookup[i] = (part.x, part.s1, part.s2)"
   ]
  },
  {
   "cell_type": "code",
   "execution_count": null,
   "metadata": {},
   "outputs": [],
   "source": [
    "%%time\n",
    "rdf = pd.DataFrame.from_dict(rlookup, orient='index')\n",
    "rdf.columns = ['x', 's1', 's2']"
   ]
  },
  {
   "cell_type": "code",
   "execution_count": null,
   "metadata": {},
   "outputs": [],
   "source": [
    "rdf.head()"
   ]
  },
  {
   "cell_type": "code",
   "execution_count": null,
   "metadata": {},
   "outputs": [],
   "source": [
    "%%time\n",
    "for l in ['x', 's1', 's2']:\n",
    "    data.loc[:, l] = rdf.loc[:, l]\n",
    "    del rdf[l]"
   ]
  },
  {
   "cell_type": "code",
   "execution_count": null,
   "metadata": {
    "collapsed": true
   },
   "outputs": [],
   "source": [
    "data.dropna()"
   ]
  },
  {
   "cell_type": "code",
   "execution_count": null,
   "metadata": {
    "collapsed": true
   },
   "outputs": [],
   "source": []
  }
 ],
 "metadata": {
  "kernelspec": {
   "display_name": "Python 3",
   "language": "python",
   "name": "python3"
  },
  "language_info": {
   "codemirror_mode": {
    "name": "ipython",
    "version": 3
   },
   "file_extension": ".py",
   "mimetype": "text/x-python",
   "name": "python",
   "nbconvert_exporter": "python",
   "pygments_lexer": "ipython3",
   "version": "3.6.1"
  }
 },
 "nbformat": 4,
 "nbformat_minor": 2
}
