{
 "cells": [
  {
   "cell_type": "code",
   "execution_count": null,
   "metadata": {
    "collapsed": true
   },
   "outputs": [],
   "source": [
    "import pandas as pd\n",
    "import numpy as np\n",
    "import string"
   ]
  },
  {
   "cell_type": "code",
   "execution_count": null,
   "metadata": {},
   "outputs": [],
   "source": [
    "def make_ids(size: float=1e2, length: int=8):\n",
    "    size = int(size)\n",
    "    space = string.ascii_lowercase+string.digits\n",
    "    out = set()\n",
    "    for _ in range(2*size):\n",
    "        arr = np.random.choice(list(space), size=length)\n",
    "        val = ''.join(arr)\n",
    "        out.add(val)\n",
    "    return list(out)[:size]"
   ]
  },
  {
   "cell_type": "code",
   "execution_count": null,
   "metadata": {
    "collapsed": true
   },
   "outputs": [],
   "source": [
    "def make_data(size: float=1e2) -> pd.DataFrame:\n",
    "    size = int(size)\n",
    "    years = np.arange(2012, 2017).astype(str)\n",
    "    df = pd.DataFrame(dict(\n",
    "        a=np.random.choice(make_ids(8), size=size),\n",
    "        b=np.random.choice(years, size=size),\n",
    "        c=np.random.randint(100, size=size)\n",
    "    ), columns=list('abc'))\n",
    "    for label in ['a', 'b']:\n",
    "        df[label] = df[label].astype('category')\n",
    "    return df"
   ]
  },
  {
   "cell_type": "code",
   "execution_count": null,
   "metadata": {},
   "outputs": [],
   "source": [
    "data = make_data()\n",
    "data.head()"
   ]
  },
  {
   "cell_type": "code",
   "execution_count": null,
   "metadata": {},
   "outputs": [],
   "source": [
    "lookup = data.groupby(['a', 'b']).mean()"
   ]
  },
  {
   "cell_type": "code",
   "execution_count": null,
   "metadata": {},
   "outputs": [],
   "source": [
    "lookup.loc['bh19zama', '2012']"
   ]
  },
  {
   "cell_type": "code",
   "execution_count": null,
   "metadata": {},
   "outputs": [],
   "source": [
    "lookup_dict = {}\n",
    "for a in data.a.cat.categories:\n",
    "    frame = lookup.loc[a].c\n",
    "    lookup_dict[a] = pd.DataFrame(dict(\n",
    "        s1=frame.shift(-1),\n",
    "        s2=frame.shift(-2)\n",
    "    ), columns=('s1', 's2'))"
   ]
  },
  {
   "cell_type": "code",
   "execution_count": null,
   "metadata": {},
   "outputs": [],
   "source": [
    "for k, tab in lookup_dict.items():\n",
    "    print(k)\n",
    "    print(tab)\n",
    "    break"
   ]
  },
  {
   "cell_type": "code",
   "execution_count": null,
   "metadata": {},
   "outputs": [],
   "source": [
    "out = pd.DataFrame()\n",
    "for name, group in data.groupby(['a', 'b']):\n",
    "    a, b = name\n",
    "    part = lookup_dict[a].loc[b]\n",
    "    group = group.copy()\n",
    "    group['s1'] = part.s1\n",
    "    group['s2'] = part.s2\n",
    "    group = group.dropna()\n",
    "    out = out.append(group)"
   ]
  },
  {
   "cell_type": "code",
   "execution_count": null,
   "metadata": {},
   "outputs": [],
   "source": [
    "out"
   ]
  },
  {
   "cell_type": "code",
   "execution_count": null,
   "metadata": {
    "collapsed": true
   },
   "outputs": [],
   "source": []
  }
 ],
 "metadata": {
  "kernelspec": {
   "display_name": "Python 3",
   "language": "python",
   "name": "python3"
  },
  "language_info": {
   "codemirror_mode": {
    "name": "ipython",
    "version": 3
   },
   "file_extension": ".py",
   "mimetype": "text/x-python",
   "name": "python",
   "nbconvert_exporter": "python",
   "pygments_lexer": "ipython3",
   "version": "3.6.1"
  }
 },
 "nbformat": 4,
 "nbformat_minor": 2
}
