{
 "cells": [
  {
   "cell_type": "code",
   "execution_count": null,
   "metadata": {
    "collapsed": true
   },
   "outputs": [],
   "source": [
    "from typing import NamedTuple\n",
    "from typing import List, Dict\n",
    "\n",
    "import pandas as pd\n",
    "import numpy as np\n",
    "import numba\n",
    "import json"
   ]
  },
  {
   "cell_type": "code",
   "execution_count": null,
   "metadata": {
    "collapsed": true
   },
   "outputs": [],
   "source": [
    "@numba.vectorize('f8(f8, f8, f8)')\n",
    "def fast_scale(x, mean, std):\n",
    "    return (x-mean)/std\n",
    "\n",
    "@numba.vectorize('u1(u1, u1)')\n",
    "def fast_encode(x, category):\n",
    "    return x == category"
   ]
  },
  {
   "cell_type": "code",
   "execution_count": null,
   "metadata": {
    "collapsed": true
   },
   "outputs": [],
   "source": [
    "class PreProcessor(NamedTuple):\n",
    "    to_scale: List[str] = []\n",
    "    to_onehot: List[str] = []\n",
    "    scalers: Dict = {}\n",
    "    encoders: Dict = {}\n",
    "    \n",
    "    def __call__(self, data: pd.DataFrame, *args, fit=False, transform=True, **kwargs):\n",
    "        for label in self.to_scale:\n",
    "            self._scale(data, label, fit, transform)\n",
    "        for label in self.to_onehot:\n",
    "            self._encode(data, label, fit, transform)\n",
    "    \n",
    "    def _scale(self, data: pd.DataFrame, label: str, fit: bool, transform: bool):\n",
    "        if fit:\n",
    "            arr = data[label].values\n",
    "            mean, std = arr.mean(), arr.std()\n",
    "            self.scalers[label] = (mean, std)\n",
    "        \n",
    "        if transform:\n",
    "            mean, std = self.scalers[label]\n",
    "            # ser = data[label].apply(lambda x: (x-mean)/std)\n",
    "            # ser = [(x-mean)/std for x in data[label].values]\n",
    "            ser = fast_scale(data[label].values, mean, std)\n",
    "            data.loc[:, label] = ser\n",
    "\n",
    "    def _encode(self, data: pd.DataFrame, label: str, fit: bool, transform: bool):\n",
    "        if fit:\n",
    "            arr  = data[label].values\n",
    "            cats = np.unique(arr)\n",
    "            code = list(range(len(cats)))\n",
    "            lookup = {str(k): v for k, v in zip(cats, code)}\n",
    "            self.encoders[label] = lookup\n",
    "        \n",
    "        if transform:\n",
    "            lookup = self.encoders[label]\n",
    "            tmpcol = data[label].astype(str).map(lookup).astype(np.uint8)\n",
    "            for category, code in lookup.items():\n",
    "                # ser = data[label].astype(str).apply(lambda x: np.uint8(x == category))\n",
    "                # ser = [np.uint8(x == category) for x in data[label].astype(str).values]\n",
    "                ser = fast_encode(tmpcol.values, code)\n",
    "                data.loc[:, f'{label}_{category}'] = ser\n",
    "            del data[label]\n",
    "    \n",
    "    def to_json(self) -> str:\n",
    "        data = self._asdict()\n",
    "        return json.dumps(data)\n",
    "    \n",
    "    @staticmethod\n",
    "    def from_json(jstr: str) -> 'PreProcessor':\n",
    "        data = json.loads(jstr)\n",
    "        return PreProcessor(**data)"
   ]
  },
  {
   "cell_type": "code",
   "execution_count": null,
   "metadata": {},
   "outputs": [],
   "source": [
    "def make_data(size: float=1e5) -> pd.DataFrame:\n",
    "    size = int(size)\n",
    "    return pd.DataFrame(dict\n",
    "        (\n",
    "            a = np.random.randint(low=1, high=10, size=size),\n",
    "            b = np.random.choice(list('abcd'), size=size),\n",
    "            c = np.random.choice(list('wxyz'), size=size),\n",
    "            d = np.random.choice([1,4,5], size=size)\n",
    "        ), columns=list('abcd'))"
   ]
  },
  {
   "cell_type": "code",
   "execution_count": null,
   "metadata": {
    "collapsed": true
   },
   "outputs": [],
   "source": [
    "train, test = make_data(8e5), make_data(2e5)"
   ]
  },
  {
   "cell_type": "code",
   "execution_count": null,
   "metadata": {},
   "outputs": [],
   "source": [
    "print(train.head(1))\n",
    "print(test.head(1))"
   ]
  },
  {
   "cell_type": "code",
   "execution_count": null,
   "metadata": {
    "collapsed": true
   },
   "outputs": [],
   "source": [
    "preprocess = PreProcessor(to_scale=list('a'), to_onehot=list('bcd'))"
   ]
  },
  {
   "cell_type": "code",
   "execution_count": null,
   "metadata": {},
   "outputs": [],
   "source": [
    "%%time\n",
    "preprocess(train, fit=True)"
   ]
  },
  {
   "cell_type": "code",
   "execution_count": null,
   "metadata": {},
   "outputs": [],
   "source": [
    "print(preprocess.scalers)\n",
    "print(preprocess.encoders)"
   ]
  },
  {
   "cell_type": "code",
   "execution_count": null,
   "metadata": {
    "collapsed": true
   },
   "outputs": [],
   "source": [
    "jstr = preprocess.to_json()\n",
    "preprocess2 = PreProcessor.from_json(jstr)"
   ]
  },
  {
   "cell_type": "code",
   "execution_count": null,
   "metadata": {},
   "outputs": [],
   "source": [
    "%%time\n",
    "preprocess2(test)"
   ]
  },
  {
   "cell_type": "code",
   "execution_count": null,
   "metadata": {},
   "outputs": [],
   "source": [
    "print(train.head(1))\n",
    "print(test.head(1))"
   ]
  },
  {
   "cell_type": "code",
   "execution_count": null,
   "metadata": {},
   "outputs": [],
   "source": [
    "train.dtypes"
   ]
  },
  {
   "cell_type": "code",
   "execution_count": null,
   "metadata": {
    "collapsed": true
   },
   "outputs": [],
   "source": [
    "# sanity check\n",
    "# from sklearn.preprocessing import StandardScaler\n",
    "\n",
    "# data = make_data(1e2)\n",
    "\n",
    "# scaler = StandardScaler()\n",
    "# scaler.fit(data.a)\n",
    "\n",
    "# preprocess = Preprocessor(to_scale=list('a'), to_onehot=list('bc'))\n",
    "# preprocess(data, fit=True, transform=False)\n",
    "\n",
    "# print(scaler.mean_, scaler.scale_)\n",
    "# print(preprocess.scalers)"
   ]
  },
  {
   "cell_type": "code",
   "execution_count": null,
   "metadata": {},
   "outputs": [],
   "source": [
    "print(preprocess)\n",
    "print(preprocess2)"
   ]
  },
  {
   "cell_type": "code",
   "execution_count": null,
   "metadata": {},
   "outputs": [],
   "source": [
    "print(jstr)"
   ]
  },
  {
   "cell_type": "code",
   "execution_count": null,
   "metadata": {
    "collapsed": true
   },
   "outputs": [],
   "source": []
  }
 ],
 "metadata": {
  "kernelspec": {
   "display_name": "Python 3",
   "language": "python",
   "name": "python3"
  },
  "language_info": {
   "codemirror_mode": {
    "name": "ipython",
    "version": 3
   },
   "file_extension": ".py",
   "mimetype": "text/x-python",
   "name": "python",
   "nbconvert_exporter": "python",
   "pygments_lexer": "ipython3",
   "version": "3.6.1"
  }
 },
 "nbformat": 4,
 "nbformat_minor": 2
}
