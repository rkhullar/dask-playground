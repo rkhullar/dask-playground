{
 "cells": [
  {
   "cell_type": "code",
   "execution_count": null,
   "metadata": {
    "collapsed": true
   },
   "outputs": [],
   "source": [
    "from sklearn.linear_model import SGDClassifier\n",
    "\n",
    "import pandas as pd\n",
    "import numpy as np"
   ]
  },
  {
   "cell_type": "code",
   "execution_count": null,
   "metadata": {
    "collapsed": true
   },
   "outputs": [],
   "source": [
    "def make_data(size: float=1e5) -> pd.DataFrame():\n",
    "    size=int(size)\n",
    "    \n",
    "    df = pd.DataFrame(dict(\n",
    "        a=np.random.randint(10, size=size),\n",
    "        b=np.random.choice(list('abcd'), size=size)\n",
    "    ), columns=list('abc'))\n",
    "    \n",
    "    def f1(a) -> int:\n",
    "        return a**2 - a + np.random.randint(4)\n",
    "\n",
    "    def f2(b) -> int:\n",
    "        return {k: lambda: np.random.randint(6) for k in list('abcd')}[b]()\n",
    "\n",
    "    t = df.a.apply(f1) + df.b.apply(f2)\n",
    "    mi, ma = t.min(), t.max()\n",
    "    t = 3*(t-mi)/ma\n",
    "    t = t.astype(int)\n",
    "    df.c = t.apply(lambda i: 'wxyz'[i])\n",
    "    \n",
    "    for label in list('bc'):\n",
    "        df[label] = df[label].astype('category')\n",
    "        \n",
    "    return df"
   ]
  },
  {
   "cell_type": "code",
   "execution_count": null,
   "metadata": {
    "collapsed": true
   },
   "outputs": [],
   "source": [
    "def get_chunks(df: pd.DataFrame, features=('a', 'b'), target=('c'), buffer: float=1e2):\n",
    "    i, n = 0, len(df)\n",
    "    while i < n:\n",
    "        j = n-1 if i+buffer-1 > n else i+buffer-1\n",
    "        yield df.loc[i:j, features], df.loc[i:j, target]\n",
    "        i = j+1"
   ]
  },
  {
   "cell_type": "code",
   "execution_count": null,
   "metadata": {
    "collapsed": true
   },
   "outputs": [],
   "source": [
    "def process(df: pd.DataFrame) -> pd.DataFrame:\n",
    "    out = df.copy()\n",
    "    for option in df.b.cat.categories:\n",
    "        out.loc[:, 'b'+'_'+option] = out.loc[:, 'b'].apply(lambda x: x == option).astype(np.uint8)\n",
    "    del out['b']\n",
    "    return out"
   ]
  },
  {
   "cell_type": "code",
   "execution_count": null,
   "metadata": {
    "collapsed": true
   },
   "outputs": [],
   "source": [
    "data = make_data()"
   ]
  },
  {
   "cell_type": "code",
   "execution_count": null,
   "metadata": {
    "collapsed": true
   },
   "outputs": [],
   "source": [
    "model = SGDClassifier(n_jobs=1)"
   ]
  },
  {
   "cell_type": "code",
   "execution_count": null,
   "metadata": {
    "collapsed": true
   },
   "outputs": [],
   "source": [
    "model.classes_ = data.c.cat.categories"
   ]
  },
  {
   "cell_type": "code",
   "execution_count": null,
   "metadata": {
    "collapsed": true
   },
   "outputs": [],
   "source": [
    "for X, y in get_chunks(data):\n",
    "    X = process(X)\n",
    "    model.partial_fit(X, y)"
   ]
  },
  {
   "cell_type": "code",
   "execution_count": null,
   "metadata": {
    "collapsed": true
   },
   "outputs": [],
   "source": []
  }
 ],
 "metadata": {
  "kernelspec": {
   "display_name": "Python 3",
   "language": "python",
   "name": "python3"
  },
  "language_info": {
   "codemirror_mode": {
    "name": "ipython",
    "version": 3
   },
   "file_extension": ".py",
   "mimetype": "text/x-python",
   "name": "python",
   "nbconvert_exporter": "python",
   "pygments_lexer": "ipython3",
   "version": "3.6.1"
  }
 },
 "nbformat": 4,
 "nbformat_minor": 2
}
