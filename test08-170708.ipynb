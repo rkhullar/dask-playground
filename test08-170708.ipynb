{
 "cells": [
  {
   "cell_type": "code",
   "execution_count": null,
   "metadata": {
    "collapsed": true
   },
   "outputs": [],
   "source": [
    "from typing import NamedTuple, List, Dict\n",
    "\n",
    "import pandas as pd\n",
    "import numpy as np"
   ]
  },
  {
   "cell_type": "code",
   "execution_count": null,
   "metadata": {},
   "outputs": [],
   "source": [
    "class Preprocessor(NamedTuple):\n",
    "    to_scale: List[str] = []\n",
    "    to_onehot: List[str] = []\n",
    "    scalers: Dict = {}\n",
    "    encoders: Dict = {}\n",
    "    \n",
    "    def __call__(self, data: pd.DataFrame, *args, fit=False, transform=True, **kwargs):\n",
    "        self._scale(data, fit, transform)\n",
    "        self._encode(data, fit, transform)\n",
    "    \n",
    "    def _scale(self, data: pd.DataFrame, fit: bool, transform: bool):\n",
    "        if fit:\n",
    "            for label in self.to_scale:\n",
    "                arr = data[label].values\n",
    "                mean, std = arr.mean(), arr.std()\n",
    "                self.scalers[label] = (mean, std)\n",
    "        \n",
    "        if transform:\n",
    "            for label in self.to_scale:\n",
    "                mean, std = self.scalers[label]\n",
    "                ser = data[label].apply(lambda x: (x-mean)/std)\n",
    "                # ser = [(x-mean)/std for x in data[label].values]\n",
    "                data.loc[:, label] = ser\n",
    "\n",
    "    def _encode(self, data: pd.DataFrame, fit: bool, transform: bool):\n",
    "        if fit:\n",
    "            for label in self.to_onehot:\n",
    "                arr = data[label].values\n",
    "                self.encoders[label] = np.unique(arr)\n",
    "        \n",
    "        if transform:\n",
    "            for label in self.to_onehot:\n",
    "                for category in self.encoders[label]:\n",
    "                    ser = data[label].apply(lambda x: np.uint8(x == category))\n",
    "                    # ser = [np.uint8(x == category) for x in data[label].values]\n",
    "                    data.loc[:, f'{label}_{category}'] = ser\n",
    "                del data[label]"
   ]
  },
  {
   "cell_type": "code",
   "execution_count": null,
   "metadata": {},
   "outputs": [],
   "source": [
    "def make_data(size: float=1e5) -> pd.DataFrame:\n",
    "    size = int(size)\n",
    "    return pd.DataFrame(dict\n",
    "        (\n",
    "            a = np.random.randint(low=1, high=10, size=size),\n",
    "            b = np.random.choice(list('abcd'), size=size),\n",
    "            c = np.random.choice(list('wxyz'), size=size)\n",
    "        ), columns=list('abc'))"
   ]
  },
  {
   "cell_type": "code",
   "execution_count": null,
   "metadata": {},
   "outputs": [],
   "source": [
    "train, test = make_data(8e5), make_data(2e5)"
   ]
  },
  {
   "cell_type": "code",
   "execution_count": null,
   "metadata": {},
   "outputs": [],
   "source": [
    "print(train.head())\n",
    "print(test.head())"
   ]
  },
  {
   "cell_type": "code",
   "execution_count": null,
   "metadata": {},
   "outputs": [],
   "source": [
    "preprocess = Preprocessor(to_scale=list('a'), to_onehot=list('bc'))"
   ]
  },
  {
   "cell_type": "code",
   "execution_count": null,
   "metadata": {},
   "outputs": [],
   "source": [
    "%%time\n",
    "preprocess(train, fit=True)"
   ]
  },
  {
   "cell_type": "code",
   "execution_count": null,
   "metadata": {},
   "outputs": [],
   "source": [
    "%%time\n",
    "preprocess(test)"
   ]
  },
  {
   "cell_type": "code",
   "execution_count": null,
   "metadata": {},
   "outputs": [],
   "source": [
    "print(train.head())\n",
    "print(test.head())"
   ]
  },
  {
   "cell_type": "code",
   "execution_count": null,
   "metadata": {},
   "outputs": [],
   "source": [
    "preprocess.encoders"
   ]
  },
  {
   "cell_type": "code",
   "execution_count": null,
   "metadata": {},
   "outputs": [],
   "source": [
    "preprocess.scalers"
   ]
  },
  {
   "cell_type": "code",
   "execution_count": null,
   "metadata": {
    "collapsed": true
   },
   "outputs": [],
   "source": []
  }
 ],
 "metadata": {
  "kernelspec": {
   "display_name": "Python 3",
   "language": "python",
   "name": "python3"
  },
  "language_info": {
   "codemirror_mode": {
    "name": "ipython",
    "version": 3
   },
   "file_extension": ".py",
   "mimetype": "text/x-python",
   "name": "python",
   "nbconvert_exporter": "python",
   "pygments_lexer": "ipython3",
   "version": "3.6.1"
  }
 },
 "nbformat": 4,
 "nbformat_minor": 2
}
